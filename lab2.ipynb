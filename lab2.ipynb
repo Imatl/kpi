{
 "cells": [
  {
   "cell_type": "code",
   "execution_count": 27,
   "metadata": {},
   "outputs": [],
   "source": [
    "import pandas as pd\n",
    "import datetime\n",
    "import os\n",
    "from urllib.request import urlopen \n",
    "\n"
   ]
  },
  {
   "cell_type": "code",
   "execution_count": 30,
   "metadata": {},
   "outputs": [],
   "source": [
    "def download_data(i):\n",
    "    with urlopen(f'https://www.star.nesdis.noaa.gov/smcd/emb/vci/VH/get_TS_admin.php?country=UKR&provinceID={i}&year1=1981&year2=2024&type=Mean') as date:\n",
    "        info = date.read()\n",
    "\n",
    "    now = datetime.datetime.now()\n",
    "    timen = now.strftime(\"%d%m%Y%H%M%S\")\n",
    "    \n",
    "    \n",
    "    with open(f'obl_{i}_{timen}.csv', 'wb') as fl:\n",
    "        fl.write(info)\n",
    "\n",
    "for i in range(1,28):\n",
    "    download_data(i)"
   ]
  },
  {
   "cell_type": "code",
   "execution_count": null,
   "metadata": {},
   "outputs": [
    {
     "data": {
      "text/html": [
       "<div>\n",
       "<style scoped>\n",
       "    .dataframe tbody tr th:only-of-type {\n",
       "        vertical-align: middle;\n",
       "    }\n",
       "\n",
       "    .dataframe tbody tr th {\n",
       "        vertical-align: top;\n",
       "    }\n",
       "\n",
       "    .dataframe thead th {\n",
       "        text-align: right;\n",
       "    }\n",
       "</style>\n",
       "<table border=\"1\" class=\"dataframe\">\n",
       "  <thead>\n",
       "    <tr style=\"text-align: right;\">\n",
       "      <th></th>\n",
       "      <th>РІК</th>\n",
       "      <th>ТИЖНІ</th>\n",
       "      <th>SMN</th>\n",
       "      <th>SMT</th>\n",
       "      <th>VCI</th>\n",
       "      <th>TCI</th>\n",
       "      <th>VHI</th>\n",
       "      <th>area</th>\n",
       "    </tr>\n",
       "  </thead>\n",
       "  <tbody>\n",
       "    <tr>\n",
       "      <th>0</th>\n",
       "      <td>1982</td>\n",
       "      <td>1.0</td>\n",
       "      <td>0.059</td>\n",
       "      <td>258.24</td>\n",
       "      <td>51.11</td>\n",
       "      <td>48.78</td>\n",
       "      <td>49.95</td>\n",
       "      <td>10</td>\n",
       "    </tr>\n",
       "    <tr>\n",
       "      <th>1</th>\n",
       "      <td>1982</td>\n",
       "      <td>2.0</td>\n",
       "      <td>0.063</td>\n",
       "      <td>261.53</td>\n",
       "      <td>55.89</td>\n",
       "      <td>38.20</td>\n",
       "      <td>47.04</td>\n",
       "      <td>10</td>\n",
       "    </tr>\n",
       "    <tr>\n",
       "      <th>2</th>\n",
       "      <td>1982</td>\n",
       "      <td>3.0</td>\n",
       "      <td>0.063</td>\n",
       "      <td>263.45</td>\n",
       "      <td>57.30</td>\n",
       "      <td>32.69</td>\n",
       "      <td>44.99</td>\n",
       "      <td>10</td>\n",
       "    </tr>\n",
       "    <tr>\n",
       "      <th>3</th>\n",
       "      <td>1982</td>\n",
       "      <td>4.0</td>\n",
       "      <td>0.061</td>\n",
       "      <td>265.10</td>\n",
       "      <td>53.96</td>\n",
       "      <td>28.62</td>\n",
       "      <td>41.29</td>\n",
       "      <td>10</td>\n",
       "    </tr>\n",
       "    <tr>\n",
       "      <th>4</th>\n",
       "      <td>1982</td>\n",
       "      <td>5.0</td>\n",
       "      <td>0.058</td>\n",
       "      <td>266.42</td>\n",
       "      <td>46.87</td>\n",
       "      <td>28.57</td>\n",
       "      <td>37.72</td>\n",
       "      <td>10</td>\n",
       "    </tr>\n",
       "    <tr>\n",
       "      <th>...</th>\n",
       "      <td>...</td>\n",
       "      <td>...</td>\n",
       "      <td>...</td>\n",
       "      <td>...</td>\n",
       "      <td>...</td>\n",
       "      <td>...</td>\n",
       "      <td>...</td>\n",
       "      <td>...</td>\n",
       "    </tr>\n",
       "    <tr>\n",
       "      <th>58180</th>\n",
       "      <td>2024</td>\n",
       "      <td>17.0</td>\n",
       "      <td>0.305</td>\n",
       "      <td>297.97</td>\n",
       "      <td>70.10</td>\n",
       "      <td>16.63</td>\n",
       "      <td>43.40</td>\n",
       "      <td>9</td>\n",
       "    </tr>\n",
       "    <tr>\n",
       "      <th>58181</th>\n",
       "      <td>2024</td>\n",
       "      <td>18.0</td>\n",
       "      <td>0.321</td>\n",
       "      <td>298.97</td>\n",
       "      <td>68.55</td>\n",
       "      <td>24.34</td>\n",
       "      <td>46.47</td>\n",
       "      <td>9</td>\n",
       "    </tr>\n",
       "    <tr>\n",
       "      <th>58182</th>\n",
       "      <td>2024</td>\n",
       "      <td>19.0</td>\n",
       "      <td>0.333</td>\n",
       "      <td>299.93</td>\n",
       "      <td>65.69</td>\n",
       "      <td>30.41</td>\n",
       "      <td>48.08</td>\n",
       "      <td>9</td>\n",
       "    </tr>\n",
       "    <tr>\n",
       "      <th>58183</th>\n",
       "      <td>2024</td>\n",
       "      <td>20.0</td>\n",
       "      <td>0.339</td>\n",
       "      <td>300.65</td>\n",
       "      <td>62.39</td>\n",
       "      <td>34.66</td>\n",
       "      <td>48.56</td>\n",
       "      <td>9</td>\n",
       "    </tr>\n",
       "    <tr>\n",
       "      <th>58184</th>\n",
       "      <td>2024</td>\n",
       "      <td>21.0</td>\n",
       "      <td>0.342</td>\n",
       "      <td>301.42</td>\n",
       "      <td>60.67</td>\n",
       "      <td>34.88</td>\n",
       "      <td>47.79</td>\n",
       "      <td>9</td>\n",
       "    </tr>\n",
       "  </tbody>\n",
       "</table>\n",
       "<p>58185 rows × 8 columns</p>\n",
       "</div>"
      ],
      "text/plain": [
       "        РІК  ТИЖНІ    SMN     SMT    VCI    TCI    VHI area\n",
       "0      1982    1.0  0.059  258.24  51.11  48.78  49.95   10\n",
       "1      1982    2.0  0.063  261.53  55.89  38.20  47.04   10\n",
       "2      1982    3.0  0.063  263.45  57.30  32.69  44.99   10\n",
       "3      1982    4.0  0.061  265.10  53.96  28.62  41.29   10\n",
       "4      1982    5.0  0.058  266.42  46.87  28.57  37.72   10\n",
       "...     ...    ...    ...     ...    ...    ...    ...  ...\n",
       "58180  2024   17.0  0.305  297.97  70.10  16.63  43.40    9\n",
       "58181  2024   18.0  0.321  298.97  68.55  24.34  46.47    9\n",
       "58182  2024   19.0  0.333  299.93  65.69  30.41  48.08    9\n",
       "58183  2024   20.0  0.339  300.65  62.39  34.66  48.56    9\n",
       "58184  2024   21.0  0.342  301.42  60.67  34.88  47.79    9\n",
       "\n",
       "[58185 rows x 8 columns]"
      ]
     },
     "execution_count": 16,
     "metadata": {},
     "output_type": "execute_result"
    }
   ],
   "source": [
    "def normalizer_data(file):\n",
    "    df = pd.read_csv(file,header = 1,names = ['РІК', 'ТИЖНІ', 'SMN', 'SMT', 'VCI', 'TCI', 'VHI', 'empty'])\n",
    "    df = df.drop(index=df.shape[0]-1)\n",
    "    df['РІК'] = df['РІК'].str.replace('<tt><pre>', '')\n",
    "    return df\n",
    "\n",
    "\n",
    "\n",
    "def create_dataframe():\n",
    "    listdataframes = []\n",
    "    for i in os.listdir('.'):\n",
    "        if not '.csv' in i:\n",
    "            continue\n",
    "    \n",
    "        df = normalizer_data(f'{i}')\n",
    "        df = df.drop(df.loc[df['VHI'] == -1].index)\n",
    "        df['area'] = (i.split('_'))[1]\n",
    "        listdataframes.append(df)\n",
    "    result = pd.concat(listdataframes).drop_duplicates().reset_index(drop=True)\n",
    "    result.drop(columns=['empty'], inplace=True)\n",
    "    return result\n",
    "\n",
    "result = create_dataframe()\n",
    "\n",
    "result"
   ]
  },
  {
   "cell_type": "code",
   "execution_count": null,
   "metadata": {},
   "outputs": [
    {
     "name": "stdout",
     "output_type": "stream",
     "text": [
      "{'1': 22, '2': 24, '3': 23, '4': 25, '5': 3, '6': 4, '7': 8, '8': 19, '9': 20, '10': 21, '11': 9, '12': 9, '13': 10, '14': 11, '15': 12, '16': 13, '17': 14, '18': 15, '19': 16, '20': 25, '21': 17, '22': 18, '23': 6, '24': 1, '25': 2, '26': 7, '27': 5}\n",
      "        РІК  ТИЖНІ    SMN     SMT    VCI    TCI    VHI  area\n",
      "0      1982    1.0  0.059  258.24  51.11  48.78  49.95    21\n",
      "1      1982    2.0  0.063  261.53  55.89  38.20  47.04    21\n",
      "2      1982    3.0  0.063  263.45  57.30  32.69  44.99    21\n",
      "3      1982    4.0  0.061  265.10  53.96  28.62  41.29    21\n",
      "4      1982    5.0  0.058  266.42  46.87  28.57  37.72    21\n",
      "...     ...    ...    ...     ...    ...    ...    ...   ...\n",
      "58180  2024   17.0  0.305  297.97  70.10  16.63  43.40    20\n",
      "58181  2024   18.0  0.321  298.97  68.55  24.34  46.47    20\n",
      "58182  2024   19.0  0.333  299.93  65.69  30.41  48.08    20\n",
      "58183  2024   20.0  0.339  300.65  62.39  34.66  48.56    20\n",
      "58184  2024   21.0  0.342  301.42  60.67  34.88  47.79    20\n",
      "\n",
      "[58185 rows x 8 columns]\n"
     ]
    },
    {
     "name": "stderr",
     "output_type": "stream",
     "text": [
      "C:\\Users\\Эдуард\\AppData\\Local\\Temp\\ipykernel_32372\\2737691819.py:6: FutureWarning: Downcasting behavior in `replace` is deprecated and will be removed in a future version. To retain the old behavior, explicitly call `result.infer_objects(copy=False)`. To opt-in to the future behavior, set `pd.set_option('future.no_silent_downcasting', True)`\n",
      "  df['area'] = df['area'].replace(arr)\n"
     ]
    }
   ],
   "source": [
    "def change_index(df):\n",
    "    chang_index = [22,24,23,25,3,4,8,19,20,21,9,9,10,11,12,13,14,15,16,25,17,18,6,1,2,7,5]\n",
    "    \n",
    "    arr = {str(i):chang_index[i-1] for i in range(1,28)}\n",
    "    print(arr)\n",
    "    df['area'] = df['area'].replace(arr)\n",
    "    print(df)\n",
    "\n",
    "\n",
    "change_index(result)"
   ]
  },
  {
   "cell_type": "code",
   "execution_count": null,
   "metadata": {},
   "outputs": [],
   "source": [
    "result.to_csv('VHI_index.csv')"
   ]
  },
  {
   "cell_type": "code",
   "execution_count": null,
   "metadata": {},
   "outputs": [
    {
     "name": "stdout",
     "output_type": "stream",
     "text": [
      "Max vhi for 1982 51.83\n",
      "Min vhi for 1982 22.82\n"
     ]
    }
   ],
   "source": [
    "def max_series_vhi(df, area, year):\n",
    "    vhi = df[(df[\"area\"]==area) & (df[\"РІК\"]==year)]['VHI']\n",
    "    return vhi.max()\n",
    "\n",
    "def min_series_vhi(df, area, year):\n",
    "    vhi = df[(df[\"area\"]==area) & (df[\"РІК\"]==year)]['VHI']\n",
    "    return vhi.min()\n",
    "\n",
    "\n",
    "print('Max vhi for 1982',max_series_vhi(result, 21, '1982'))\n",
    "\n",
    "print('Min vhi for 1982',min_series_vhi(result, 21, '1982'))"
   ]
  },
  {
   "cell_type": "code",
   "execution_count": null,
   "metadata": {},
   "outputs": [
    {
     "data": {
      "text/plain": [
       "['1986', '1993', '2000', '2007']"
      ]
     },
     "execution_count": 20,
     "metadata": {},
     "output_type": "execute_result"
    }
   ],
   "source": [
    "def extr_vhi_year(df, year, obl, proc):\n",
    "    vhi_index = df[(df['РІК'].isin(year)) & (df['area'].isin(obl))]\n",
    "    years = []\n",
    "    for i in year:\n",
    "        df_with_extr_vhi = vhi_index[(vhi_index['VHI']<15) & (vhi_index['РІК']==i)]\n",
    "        total_area_with_extr_vhi = len(df_with_extr_vhi.area.unique())\n",
    "        total_area = len(vhi_index.area.unique())\n",
    "        proc_for_year = (total_area_with_extr_vhi*100)/total_area\n",
    "        if proc_for_year>proc:\n",
    "            years.append(i)\n",
    "\n",
    "    return years\n",
    "years = [str(i) for i in range(1982,2020)]\n",
    "extr_vhi_year(result, years, list(range(1,26)), 4)"
   ]
  },
  {
   "cell_type": "code",
   "execution_count": null,
   "metadata": {},
   "outputs": [],
   "source": [
    "def mild_vhi_year(df, year, obl, proc):\n",
    "    vhi_index = df[(df['РІК'].isin(year)) & (df['area'].isin(obl))].reset_index(drop=True)\n",
    "    years = []\n",
    "    for i in year:\n",
    "        df_with_extr_vhi = vhi_index[(vhi_index['VHI']<35) & (vhi_index['VHI']>15) &(vhi_index['РІК']==i)]\n",
    "        total_area_with_extr_vhi = len(df_with_extr_vhi.area.unique())\n",
    "        total_area = len(vhi_index.area.unique())\n",
    "        proc_for_year = (total_area_with_extr_vhi*100)/total_area\n",
    "        if proc_for_year>proc:\n",
    "            years.append(i)\n",
    "    return years"
   ]
  },
  {
   "cell_type": "code",
   "execution_count": null,
   "metadata": {},
   "outputs": [
    {
     "data": {
      "text/plain": [
       "['1982',\n",
       " '1983',\n",
       " '1984',\n",
       " '1985',\n",
       " '1986',\n",
       " '1989',\n",
       " '1990',\n",
       " '1992',\n",
       " '1993',\n",
       " '1995',\n",
       " '1996',\n",
       " '2000',\n",
       " '2015',\n",
       " '2019']"
      ]
     },
     "execution_count": 22,
     "metadata": {},
     "output_type": "execute_result"
    }
   ],
   "source": [
    "mild_vhi_year(result, years, list(range(1,26)), 90)"
   ]
  }
 ],
 "metadata": {
  "kernelspec": {
   "display_name": "Python 3",
   "language": "python",
   "name": "python3"
  },
  "language_info": {
   "codemirror_mode": {
    "name": "ipython",
    "version": 3
   },
   "file_extension": ".py",
   "mimetype": "text/x-python",
   "name": "python",
   "nbconvert_exporter": "python",
   "pygments_lexer": "ipython3",
   "version": "3.12.2"
  }
 },
 "nbformat": 4,
 "nbformat_minor": 2
}
